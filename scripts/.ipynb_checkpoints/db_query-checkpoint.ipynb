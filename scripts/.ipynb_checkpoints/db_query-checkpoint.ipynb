{
 "cells": [
  {
   "cell_type": "markdown",
   "metadata": {},
   "source": [
    "# Database Query Notebook\n",
    "\n",
    "PostgreSQL 데이터베이스에서 뉴스 기사를 조회하는 노트북입니다."
   ]
  },
  {
   "cell_type": "code",
   "execution_count": null,
   "metadata": {},
   "outputs": [],
   "source": [
    "import psycopg2\n",
    "import pandas as pd\n",
    "from datetime import datetime\n",
    "\n",
    "# PostgreSQL 연결 설정\n",
    "def get_db_connection():\n",
    "    return psycopg2.connect(\n",
    "        host=\"localhost\",  # Docker service name\n",
    "        database=\"news_db\",\n",
    "        user=\"postgres\",\n",
    "        password=\"password\"\n",
    "    )"
   ]
  },
  {
   "cell_type": "code",
   "execution_count": 1,
   "metadata": {},
   "outputs": [
    {
     "name": "stdout",
     "output_type": "stream",
     "text": [
      "(1, '카카오모빌리티', 'https://www.seoultimes.news/news/article.html?no=2000058978', 'https://www.seoultimes.news/news/article.html?no=2000058978', \"“사장님부터 회장님까지”...대기업 CEO '국감 증인' 줄소환\", '류긍선카카오모빌리티대표(카카오택시 등 수수료 및 이용 불편), , 피터알덴우드 애플코리아 대표이사(불법 개인정보 유출과 앱마켓 독과점 지위), 김태영 웹젠 대표이사(게임 아이템 확률 조작) 등의 CEO도 마찮가지다. 이처럼 대기업 총수나 후계자, CEO들이 줄줄이 국감장 증인으로 채택되면서 이를...', '서울타임즈뉴스', 'www.seoultimes.news', datetime.datetime(2024, 9, 30, 15, 32, tzinfo=datetime.timezone.utc), '2024.10.01', datetime.datetime(2024, 11, 29, 1, 40, 57, 213465, tzinfo=datetime.timezone.utc), False, True, False)\n",
      "(3, '카카오모빌리티', 'https://www.ajunews.com/view/20241001140944533', 'https://www.ajunews.com/view/20241001140944533', \"올해도 기업인 줄소환… '보여주기' 전락한 국감\", '이 밖에도 △장재훈 현대차 사장(대기업·중견중소기업 교란행위) △류긍선카카오모빌리티대표(카카오택시 등 수수료 및 이용 불편) △김영섭 KT 대표(한전 원격검침 인프라 구축 모뎀사업 관련) △방경만 KT&G 대표(불공정 판매 강요 문제) △강한승 쿠팡 대표(자사 우대 노출), 피터얀 반데비트 우아한형제들...', '아주경제', 'www.ajunews.com', datetime.datetime(2024, 9, 30, 15, 32, tzinfo=datetime.timezone.utc), '2024.10.01', datetime.datetime(2024, 11, 29, 1, 40, 57, 213958, tzinfo=datetime.timezone.utc), False, True, False)\n",
      "(5, '카카오모빌리티', 'https://www.ajunews.com/view/20241001141519537', 'https://www.ajunews.com/view/20241001141519537', \"[미리보는 2024 국감] 국토위, '대통령 관저불법 증축' 정쟁 속 전기차 ...\", '기업인으로는 마티아스 바이틀 메르세데스 벤츠코리아 대표를 비롯해 홍용준 쿠팡로지틱스서비스(CLS) 대표, 류긍선카카오모빌리티대표, 전중선 포스코이앤씨 사장 등이 증인 명단에 포함됐다. 야당 측에서 오는 16일 이후에 진행하는 감사기관에 대한 추가 신청을 받을 예정이어서 증인·참고인은 늘어날...', '아주경제', 'www.ajunews.com', datetime.datetime(2024, 9, 30, 15, 32, tzinfo=datetime.timezone.utc), '2024.10.01', datetime.datetime(2024, 11, 29, 1, 40, 57, 214283, tzinfo=datetime.timezone.utc), False, True, False)\n",
      "(7, '카카오모빌리티', 'https://www.businesspost.co.kr/BP?command=article_view&num=367520', 'https://www.businesspost.co.kr/BP?command=article_view&num=367520', '[10월2일자] 비즈니스포스트 아침의 주요기사', \"● 2차전지주 긴 터널 끝 보인다, LG엔솔 포스코홀딩스 삼성SDI 덩칫값 하나 ● 러시아워 없는 도시의 하늘길, 도심항공모빌리티내년 현실로 다가온다 ● 가을철 알록달록 물든 산 나를 반긴다, 늦어져 더 귀해진 단풍 명소와 코스는 ●카카오게임즈 야심작 스톰게이트 부진, 한상우 내년 '14종 신작'으로...\", '비즈니스포스트', 'www.businesspost.co.kr', datetime.datetime(2024, 9, 30, 15, 32, tzinfo=datetime.timezone.utc), '2024.10.01', datetime.datetime(2024, 11, 29, 1, 40, 57, 214636, tzinfo=datetime.timezone.utc), False, True, False)\n",
      "(9, '카카오모빌리티', 'https://www.etoday.co.kr/news/view/2405690', 'https://www.etoday.co.kr/news/view/2405690', '“병풍 혹은 스타”...올해 국감도 ‘기업인’ 무더기 소환', '장재훈 현대차 사장도 대기업의 중견·중소기업 교란행위와 관련해, 류긍선카카오모빌리티대표는 카카오택시 수수료 관련해 증인으로 신청됐다. 산중위는 경영권을 놓고 갈등 중인 최윤범 고려아연 회장과 장형진 영풍그룹 고문, 김병주 MBK파트너스 회장도 증인으로 채택했다. 이밖에 △김영섭 KT 대표(한전...', '이투데이', 'www.etoday.co.kr', datetime.datetime(2024, 9, 30, 15, 32, tzinfo=datetime.timezone.utc), '2024.10.01', datetime.datetime(2024, 11, 29, 1, 40, 57, 214945, tzinfo=datetime.timezone.utc), False, True, False)\n",
      "(11, '카카오모빌리티', 'https://n.news.naver.com/mnews/article/087/0001070350?sid=102', 'https://www.kwnews.co.kr/page/view/2024100114170728445', '\"강원 단풍 명소는 어디일까\"…가을 단풍여행 지도 공개', \"한국관광공사카카오모빌리티는 가을을 맞이해 전국에서 단풍 명소로 손꼽히는 27곳을 소개하는 '가을 단풍 여행 지도'를 선보였다고 1일 밝혔다. '카카오 내비' 데이터를 바탕으로 전국 9개 권역(광역시도)에서 지난해 단풍 시기(10월 중순~11월 초순)에 전월 대비 길 안내 이용자 수가 대폭 증가(평균 7.7배)한...\", '강원일보', 'www.kwnews.co.kr', datetime.datetime(2024, 9, 30, 15, 32, tzinfo=datetime.timezone.utc), '2024.10.01', datetime.datetime(2024, 11, 29, 1, 40, 57, 215199, tzinfo=datetime.timezone.utc), True, True, False)\n",
      "(13, '카카오모빌리티', 'https://n.news.naver.com/mnews/article/018/0005848031?sid=105', 'http://www.edaily.co.kr/news/newspath.asp?newsid=02305846639048656', '징검다리 연휴 여행 떠난다면…이런 로밍·맵 연계 혜택 어때요', '카카오모빌리티‘가을 단풍 여행 지도’ 화면.(사진=카카오모빌리티)카카오모빌리티는 한국관광공사와 협업해 카카오내비 데이터 기반 ‘가을 단풍 여행 지도’를 지난달 30일 새롭게 공개했다. 카카오내비의 이동 데이터를 기반으로 전국 단풍 명소 정보를 담은 일러스트 지도로, 9개 광역시·도에서...', '이데일리', 'www.edaily.co.kr', datetime.datetime(2024, 9, 30, 15, 32, tzinfo=datetime.timezone.utc), '2024.10.01', datetime.datetime(2024, 11, 29, 1, 40, 57, 215444, tzinfo=datetime.timezone.utc), True, True, False)\n",
      "(14, '카카오모빌리티', 'https://n.news.naver.com/mnews/article/029/0002905831?sid=105', 'https://www.dt.co.kr/contents.html?article_no=2024100102109931065008&ref=naver', '가을에 어디 갈까?...`가을 단풍여행 지도` 나왔다', \"카카오내비 기반 9개 광역시·도 전국 27곳 단풍 여행지 소개카카오모빌리티가 가을철 단풍 시즌을 맞아 한국관광공사와 협업해 카카오내비 데이터 기반 '가을 단풍 여행 지도'를 공개했다고 1일 밝혔다. '가을 단풍 여행 지도'는 카카오내비의 이동 데이터를 기반으로 전국 단풍 명소 정보를 담은 일러스트...\", '디지털타임스', 'www.dt.co.kr', datetime.datetime(2024, 9, 30, 15, 32, tzinfo=datetime.timezone.utc), '2024.10.01', datetime.datetime(2024, 11, 29, 1, 40, 57, 215691, tzinfo=datetime.timezone.utc), True, True, False)\n",
      "(16, '카카오모빌리티', 'https://www.jbnews.com/news/articleView.html?idxno=1453817', 'https://www.jbnews.com/news/articleView.html?idxno=1453817', \"'카카오 모빌리티이용객 Pick' 충청권 가을 단풍여행지 6곳\", \"［중부매일 박상철 기자］카카오모빌리티이용객들이 많이 방문한 가을 여행지는 어딜까? 1일카카오모빌리티는 가을철 단풍 시즌을 맞아 한국관광공사와 협업해 카카오내비 데이터 기반 '가을 단풍 여행 지도'를 공개했다. 가을 단풍 여행 지도는 카카오내비 이동 데이터를 기반으로 전국 단풍 명소 정보를...\", '중부매일', 'www.jbnews.com', datetime.datetime(2024, 9, 30, 15, 32, tzinfo=datetime.timezone.utc), '2024.10.01', datetime.datetime(2024, 11, 29, 1, 40, 57, 215982, tzinfo=datetime.timezone.utc), False, True, False)\n",
      "(18, '카카오모빌리티', 'http://www.bizwnews.com/news/articleView.html?idxno=89276', 'http://www.bizwnews.com/news/articleView.html?idxno=89276', \"한국관광공사,카카오모빌리티와 '가을 단풍여행' 지도 선봬\", \"사진=한국관광공사 포토코리아_김지호 한국관광공사(이하 공사)가카카오모빌리티와 전국 단풍 명소 27곳을 소개하는 '가을 단풍여행' 지도를 선뵀다. 양측은 '카카오내비' 데이터를 바탕으로 전국 9개 권역에서 2023년 단풍 시기에 전월 대비 방문자 수가 대폭 증가한 여행지를 각 3곳씩 선정해 가을 단풍 여행...\", '비즈월드', 'www.bizwnews.com', datetime.datetime(2024, 9, 30, 15, 32, tzinfo=datetime.timezone.utc), '2024.10.01', datetime.datetime(2024, 11, 29, 1, 40, 57, 216269, tzinfo=datetime.timezone.utc), False, True, False)\n"
     ]
    }
   ],
   "source": [
    "import psycopg2\n",
    "\n",
    "conn = psycopg2.connect(\n",
    "    host='localhost',\n",
    "    port=5432,\n",
    "    database='news_db',\n",
    "    user='postgres',\n",
    "    password='password'\n",
    ")\n",
    "\n",
    "cur = conn.cursor()\n",
    "cur.execute(\"SELECT * FROM articles LIMIT 10;\")\n",
    "rows = cur.fetchall()\n",
    "for row in rows:\n",
    "    print(row)\n",
    "\n",
    "cur.close()\n",
    "conn.close()\n"
   ]
  },
  {
   "cell_type": "markdown",
   "metadata": {},
   "source": [
    "## 날짜별 기사 검색"
   ]
  },
  {
   "cell_type": "code",
   "execution_count": null,
   "metadata": {},
   "outputs": [],
   "source": [
    "def search_by_date(date_str):\n",
    "    \"\"\"\n",
    "    특정 날짜의 기사를 검색합니다.\n",
    "    :param date_str: 'YYYY-MM-DD' 형식의 날짜 문자열\n",
    "    \"\"\"\n",
    "    conn = get_db_connection()\n",
    "    \n",
    "    query = \"\"\"\n",
    "    SELECT \n",
    "        id,\n",
    "        title,\n",
    "        publisher,\n",
    "        naver_link,\n",
    "        published_at\n",
    "    FROM articles\n",
    "    WHERE DATE(published_at) = %s\n",
    "    ORDER BY published_at DESC\n",
    "    \"\"\"\n",
    "    \n",
    "    df = pd.read_sql_query(query, conn, params=[date_str])\n",
    "    conn.close()\n",
    "    return df\n",
    "\n",
    "# 사용 예시:\n",
    "# df = search_by_date('2024-01-15')\n",
    "# display(df)"
   ]
  },
  {
   "cell_type": "markdown",
   "metadata": {},
   "source": [
    "## 키워드로 기사 검색"
   ]
  },
  {
   "cell_type": "code",
   "execution_count": null,
   "metadata": {},
   "outputs": [],
   "source": [
    "def search_by_keyword(keyword):\n",
    "    \"\"\"\n",
    "    키워드가 포함된 기사를 검색합니다.\n",
    "    :param keyword: 검색할 키워드\n",
    "    \"\"\"\n",
    "    conn = get_db_connection()\n",
    "    \n",
    "    query = \"\"\"\n",
    "    SELECT \n",
    "        id,\n",
    "        title,\n",
    "        publisher,\n",
    "        naver_link,\n",
    "        published_at\n",
    "    FROM articles\n",
    "    WHERE \n",
    "        title LIKE %s OR\n",
    "        main_keyword LIKE %s\n",
    "    ORDER BY published_at DESC\n",
    "    \"\"\"\n",
    "    \n",
    "    search_pattern = f'%{keyword}%'\n",
    "    df = pd.read_sql_query(query, conn, params=[search_pattern, search_pattern])\n",
    "    conn.close()\n",
    "    return df\n",
    "\n",
    "# 사용 예시:\n",
    "# df = search_by_keyword('카카오모빌리티')\n",
    "# display(df)"
   ]
  },
  {
   "cell_type": "markdown",
   "metadata": {},
   "source": [
    "## 날짜와 키워드로 기사 검색"
   ]
  },
  {
   "cell_type": "code",
   "execution_count": null,
   "metadata": {},
   "outputs": [],
   "source": [
    "def search_by_date_and_keyword(date_str, keyword):\n",
    "    \"\"\"\n",
    "    특정 날짜와 키워드로 기사를 검색합니다.\n",
    "    :param date_str: 'YYYY-MM-DD' 형식의 날짜 문자열\n",
    "    :param keyword: 검색할 키워드\n",
    "    \"\"\"\n",
    "    conn = get_db_connection()\n",
    "    \n",
    "    query = \"\"\"\n",
    "    SELECT \n",
    "        id,\n",
    "        title,\n",
    "        publisher,\n",
    "        naver_link,\n",
    "        published_at\n",
    "    FROM articles\n",
    "    WHERE \n",
    "        DATE(published_at) = %s AND\n",
    "        (title LIKE %s OR main_keyword LIKE %s)\n",
    "    ORDER BY published_at DESC\n",
    "    \"\"\"\n",
    "    \n",
    "    search_pattern = f'%{keyword}%'\n",
    "    df = pd.read_sql_query(query, conn, params=[date_str, search_pattern, search_pattern])\n",
    "    conn.close()\n",
    "    return df\n",
    "\n",
    "# 사용 예시:\n",
    "# df = search_by_date_and_keyword('2024-01-15', '카카오모빌리티')\n",
    "# display(df)"
   ]
  },
  {
   "cell_type": "markdown",
   "metadata": {},
   "source": [
    "## 기사 내용 조회"
   ]
  },
  {
   "cell_type": "code",
   "execution_count": null,
   "metadata": {},
   "outputs": [],
   "source": [
    "def get_article_content(article_id):\n",
    "    \"\"\"\n",
    "    특정 기사의 내용을 조회합니다.\n",
    "    :param article_id: 기사 ID\n",
    "    \"\"\"\n",
    "    conn = get_db_connection()\n",
    "    \n",
    "    query = \"\"\"\n",
    "    SELECT \n",
    "        a.id,\n",
    "        a.title,\n",
    "        a.publisher,\n",
    "        c.content,\n",
    "        a.published_at\n",
    "    FROM articles a\n",
    "    LEFT JOIN contents c ON a.id = c.article_id\n",
    "    WHERE a.id = %s\n",
    "    \"\"\"\n",
    "    \n",
    "    df = pd.read_sql_query(query, conn, params=[article_id])\n",
    "    conn.close()\n",
    "    return df\n",
    "\n",
    "# 사용 예시:\n",
    "# df = get_article_content(3514)\n",
    "# display(df)"
   ]
  },
  {
   "cell_type": "markdown",
   "metadata": {},
   "source": [
    "## 카카오모빌리티 관련 기사 검색 예시"
   ]
  },
  {
   "cell_type": "code",
   "execution_count": null,
   "metadata": {},
   "outputs": [],
   "source": [
    "# 특정 날짜의 카카오모빌리티 관련 기사 검색\n",
    "date_str = '2024-01-15'  # 날짜를 원하는 날짜로 변경하세요\n",
    "keyword = '카카오모빌리티'\n",
    "\n",
    "df = search_by_date_and_keyword(date_str, keyword)\n",
    "display(df)"
   ]
  }
 ],
 "metadata": {
  "kernelspec": {
   "display_name": "Python 3 (ipykernel)",
   "language": "python",
   "name": "python3"
  },
  "language_info": {
   "codemirror_mode": {
    "name": "ipython",
    "version": 3
   },
   "file_extension": ".py",
   "mimetype": "text/x-python",
   "name": "python",
   "nbconvert_exporter": "python",
   "pygments_lexer": "ipython3",
   "version": "3.12.7"
  }
 },
 "nbformat": 4,
 "nbformat_minor": 4
}
